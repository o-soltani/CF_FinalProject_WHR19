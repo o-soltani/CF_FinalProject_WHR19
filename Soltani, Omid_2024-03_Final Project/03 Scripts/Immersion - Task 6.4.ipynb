{
 "cells": [
  {
   "cell_type": "markdown",
   "id": "67d0cbbc",
   "metadata": {},
   "source": [
    "# Contents\n",
    "\n",
    "## 1. Importing libraries and data\n",
    "## 2. Data cleaning\n",
    "## 3. Visual data exploration (scatterplot)\n",
    "## 4. Hypothesis\n",
    "## 5. Data prep for regression analysis\n",
    "## 6. Regression analysis"
   ]
  },
  {
   "cell_type": "markdown",
   "id": "942e8a26",
   "metadata": {},
   "source": [
    "### 1. Importing libraries and data"
   ]
  },
  {
   "cell_type": "code",
   "execution_count": 1,
   "id": "4a302400",
   "metadata": {},
   "outputs": [],
   "source": [
    "import pandas as pd\n",
    "import numpy as np\n",
    "import seaborn as sns\n",
    "import matplotlib\n",
    "import matplotlib.pyplot as plt\n",
    "import os\n",
    "import sklearn\n",
    "from sklearn.model_selection import train_test_split \n",
    "from sklearn.linear_model import LinearRegression\n",
    "from sklearn.metrics import mean_squared_error, r2_score"
   ]
  },
  {
   "cell_type": "code",
   "execution_count": 2,
   "id": "2dfb9c4b",
   "metadata": {},
   "outputs": [],
   "source": [
    "# Ensure charts are displayed without the need to \"call\" them specifically\n",
    "%matplotlib inline"
   ]
  },
  {
   "cell_type": "code",
   "execution_count": 3,
   "id": "8355e8a8",
   "metadata": {},
   "outputs": [],
   "source": [
    "# Define path\n",
    "path = r'/Users/omid/Library/CloudStorage/OneDrive-Personal/Data Analytics/Data Analytics Immersion/Achievement 6/Soltani, Omid_2024-03_Open Project'"
   ]
  },
  {
   "cell_type": "code",
   "execution_count": 4,
   "id": "94abaea9",
   "metadata": {},
   "outputs": [],
   "source": [
    "# Import data\n",
    "df = pd.read_csv(os.path.join(path, '02 Data', 'Prepared Data', 'clean_data.csv'), index_col = False)"
   ]
  },
  {
   "cell_type": "code",
   "execution_count": 5,
   "id": "76aa4ee7",
   "metadata": {},
   "outputs": [
    {
     "data": {
      "text/html": [
       "<div>\n",
       "<style scoped>\n",
       "    .dataframe tbody tr th:only-of-type {\n",
       "        vertical-align: middle;\n",
       "    }\n",
       "\n",
       "    .dataframe tbody tr th {\n",
       "        vertical-align: top;\n",
       "    }\n",
       "\n",
       "    .dataframe thead th {\n",
       "        text-align: right;\n",
       "    }\n",
       "</style>\n",
       "<table border=\"1\" class=\"dataframe\">\n",
       "  <thead>\n",
       "    <tr style=\"text-align: right;\">\n",
       "      <th></th>\n",
       "      <th>Unnamed: 0</th>\n",
       "      <th>rank</th>\n",
       "      <th>country_or_region</th>\n",
       "      <th>happiness_score</th>\n",
       "      <th>GDP_per_capita</th>\n",
       "      <th>social_support_score</th>\n",
       "      <th>life_expectancy</th>\n",
       "      <th>freedom_score</th>\n",
       "      <th>generosity_score</th>\n",
       "      <th>corruption_perception_score</th>\n",
       "    </tr>\n",
       "  </thead>\n",
       "  <tbody>\n",
       "    <tr>\n",
       "      <th>0</th>\n",
       "      <td>0</td>\n",
       "      <td>1</td>\n",
       "      <td>Finland</td>\n",
       "      <td>7.769</td>\n",
       "      <td>1.340</td>\n",
       "      <td>1.587</td>\n",
       "      <td>0.986</td>\n",
       "      <td>0.596</td>\n",
       "      <td>0.153</td>\n",
       "      <td>0.393</td>\n",
       "    </tr>\n",
       "    <tr>\n",
       "      <th>1</th>\n",
       "      <td>1</td>\n",
       "      <td>2</td>\n",
       "      <td>Denmark</td>\n",
       "      <td>7.600</td>\n",
       "      <td>1.383</td>\n",
       "      <td>1.573</td>\n",
       "      <td>0.996</td>\n",
       "      <td>0.592</td>\n",
       "      <td>0.252</td>\n",
       "      <td>0.410</td>\n",
       "    </tr>\n",
       "    <tr>\n",
       "      <th>2</th>\n",
       "      <td>2</td>\n",
       "      <td>3</td>\n",
       "      <td>Norway</td>\n",
       "      <td>7.554</td>\n",
       "      <td>1.488</td>\n",
       "      <td>1.582</td>\n",
       "      <td>1.028</td>\n",
       "      <td>0.603</td>\n",
       "      <td>0.271</td>\n",
       "      <td>0.341</td>\n",
       "    </tr>\n",
       "    <tr>\n",
       "      <th>3</th>\n",
       "      <td>3</td>\n",
       "      <td>4</td>\n",
       "      <td>Iceland</td>\n",
       "      <td>7.494</td>\n",
       "      <td>1.380</td>\n",
       "      <td>1.624</td>\n",
       "      <td>1.026</td>\n",
       "      <td>0.591</td>\n",
       "      <td>0.354</td>\n",
       "      <td>0.118</td>\n",
       "    </tr>\n",
       "    <tr>\n",
       "      <th>4</th>\n",
       "      <td>4</td>\n",
       "      <td>5</td>\n",
       "      <td>Netherlands</td>\n",
       "      <td>7.488</td>\n",
       "      <td>1.396</td>\n",
       "      <td>1.522</td>\n",
       "      <td>0.999</td>\n",
       "      <td>0.557</td>\n",
       "      <td>0.322</td>\n",
       "      <td>0.298</td>\n",
       "    </tr>\n",
       "  </tbody>\n",
       "</table>\n",
       "</div>"
      ],
      "text/plain": [
       "   Unnamed: 0  rank country_or_region  happiness_score  GDP_per_capita  \\\n",
       "0           0     1           Finland            7.769           1.340   \n",
       "1           1     2           Denmark            7.600           1.383   \n",
       "2           2     3            Norway            7.554           1.488   \n",
       "3           3     4           Iceland            7.494           1.380   \n",
       "4           4     5       Netherlands            7.488           1.396   \n",
       "\n",
       "   social_support_score  life_expectancy  freedom_score  generosity_score  \\\n",
       "0                 1.587            0.986          0.596             0.153   \n",
       "1                 1.573            0.996          0.592             0.252   \n",
       "2                 1.582            1.028          0.603             0.271   \n",
       "3                 1.624            1.026          0.591             0.354   \n",
       "4                 1.522            0.999          0.557             0.322   \n",
       "\n",
       "   corruption_perception_score  \n",
       "0                        0.393  \n",
       "1                        0.410  \n",
       "2                        0.341  \n",
       "3                        0.118  \n",
       "4                        0.298  "
      ]
     },
     "execution_count": 5,
     "metadata": {},
     "output_type": "execute_result"
    }
   ],
   "source": [
    "df.head()"
   ]
  },
  {
   "cell_type": "markdown",
   "id": "0f80b87c",
   "metadata": {},
   "source": [
    "### 2. Data cleaning"
   ]
  },
  {
   "cell_type": "markdown",
   "id": "a9f18ab0",
   "metadata": {},
   "source": [
    "#### Extreme values checks"
   ]
  },
  {
   "cell_type": "code",
   "execution_count": 6,
   "id": "b2ad9d4d",
   "metadata": {},
   "outputs": [
    {
     "name": "stderr",
     "output_type": "stream",
     "text": [
      "/var/folders/tt/_wyb66d571z8046p5nj36_500000gn/T/ipykernel_74317/2740050472.py:1: UserWarning: \n",
      "\n",
      "`distplot` is a deprecated function and will be removed in seaborn v0.14.0.\n",
      "\n",
      "Please adapt your code to use either `displot` (a figure-level function with\n",
      "similar flexibility) or `histplot` (an axes-level function for histograms).\n",
      "\n",
      "For a guide to updating your code to use the new functions, please see\n",
      "https://gist.github.com/mwaskom/de44147ed2974457ad6372750bbe5751\n",
      "\n",
      "  sns.distplot(df['happiness_score'], bins=20) # Shows extreme values\n",
      "/opt/anaconda3/lib/python3.11/site-packages/seaborn/_oldcore.py:1119: FutureWarning: use_inf_as_na option is deprecated and will be removed in a future version. Convert inf values to NaN before operating instead.\n",
      "  with pd.option_context('mode.use_inf_as_na', True):\n"
     ]
    },
    {
     "data": {
      "text/plain": [
       "<Axes: xlabel='happiness_score', ylabel='Density'>"
      ]
     },
     "execution_count": 6,
     "metadata": {},
     "output_type": "execute_result"
    },
    {
     "data": {
      "image/png": "[encoded data removed]",
      "text/plain": [
       "<Figure size 640x480 with 1 Axes>"
      ]
     },
     "metadata": {},
     "output_type": "display_data"
    }
   ],
   "source": [
    "sns.distplot(df['happiness_score'], bins=20) # Shows extreme values"
   ]
  },
  {
   "cell_type": "code",
   "execution_count": 7,
   "id": "20e97e47",
   "metadata": {},
   "outputs": [
    {
     "data": {
      "text/plain": [
       "5.407096153846155"
      ]
     },
     "execution_count": 7,
     "metadata": {},
     "output_type": "execute_result"
    }
   ],
   "source": [
    "df['happiness_score'].mean() # Check the mean"
   ]
  },
  {
   "cell_type": "code",
   "execution_count": 8,
   "id": "47f18e26",
   "metadata": {},
   "outputs": [
    {
     "data": {
      "text/plain": [
       "5.3795"
      ]
     },
     "execution_count": 8,
     "metadata": {},
     "output_type": "execute_result"
    }
   ],
   "source": [
    "df['happiness_score'].median() # Check the median"
   ]
  },
  {
   "cell_type": "code",
   "execution_count": 9,
   "id": "344c2cd4",
   "metadata": {},
   "outputs": [
    {
     "data": {
      "text/plain": [
       "7.769"
      ]
     },
     "execution_count": 9,
     "metadata": {},
     "output_type": "execute_result"
    }
   ],
   "source": [
    "df['happiness_score'].max() # Check the max"
   ]
  },
  {
   "cell_type": "code",
   "execution_count": 10,
   "id": "fb7ebd28",
   "metadata": {},
   "outputs": [
    {
     "data": {
      "text/plain": [
       "2.853"
      ]
     },
     "execution_count": 10,
     "metadata": {},
     "output_type": "execute_result"
    }
   ],
   "source": [
    "df['happiness_score'].min() # Check the min"
   ]
  },
  {
   "cell_type": "markdown",
   "id": "b5ca64f9",
   "metadata": {},
   "source": [
    "**Interpretation**\n",
    "\n",
    "In the realm of happiness scores, extreme values often represent valid data points, reflecting genuine variations in subjective well-being across different regions or countries. These outliers are not necessarily anomalies but rather indicate the diverse range of happiness levels influenced by various factors."
   ]
  },
  {
   "cell_type": "markdown",
   "id": "8725162c",
   "metadata": {},
   "source": [
    "### 3. Visual data exploration (scatterplot)"
   ]
  },
  {
   "cell_type": "code",
   "execution_count": 11,
   "id": "adc0d98c",
   "metadata": {},
   "outputs": [
    {
     "data": {
      "image/png": "[encoded data removed]",
      "text/plain": [
       "<Figure size 640x480 with 1 Axes>"
      ]
     },
     "metadata": {},
     "output_type": "display_data"
    }
   ],
   "source": [
    "# Create a scatterplot using matplotlib plotting GDP per capita against happiness score\n",
    "df.plot(x = 'GDP_per_capita', y = 'happiness_score', style='o')\n",
    "plt.title('GDP per capita vs. Happiness Score')  \n",
    "plt.xlabel('GDP per capita')  \n",
    "plt.ylabel('Happiness Score')  \n",
    "plt.show()"
   ]
  },
  {
   "cell_type": "markdown",
   "id": "ceca0f08",
   "metadata": {},
   "source": [
    "### 4. Hypothesis\n",
    "- Null Hypothesis (H0): There is no significant correlation between a country's GDP per capita and its happiness score.\n",
    "- Alternative Hypothesis (H1): Higher GDP per capita is associated with higher happiness scores across countries."
   ]
  },
  {
   "cell_type": "markdown",
   "id": "480ab848",
   "metadata": {},
   "source": [
    "### 5. Data prep for regression analysis"
   ]
  },
  {
   "cell_type": "code",
   "execution_count": 12,
   "id": "75055609",
   "metadata": {},
   "outputs": [],
   "source": [
    "# Reshape the variables into NumPy arrays and put them into separate objects\n",
    "X = df['GDP_per_capita'].values.reshape(-1,1)\n",
    "y = df['happiness_score'].values.reshape(-1,1)"
   ]
  },
  {
   "cell_type": "code",
   "execution_count": 13,
   "id": "ece49290",
   "metadata": {
    "scrolled": true
   },
   "outputs": [
    {
     "data": {
      "text/plain": [
       "array([[1.34 ],\n",
       "       [1.383],\n",
       "       [1.488],\n",
       "       [1.38 ],\n",
       "       [1.396],\n",
       "       [1.452],\n",
       "       [1.387],\n",
       "       [1.303],\n",
       "       [1.365],\n",
       "       [1.376],\n",
       "       [1.372],\n",
       "       [1.034],\n",
       "       [1.276],\n",
       "       [1.609],\n",
       "       [1.333],\n",
       "       [1.499],\n",
       "       [1.373],\n",
       "       [1.356],\n",
       "       [1.433],\n",
       "       [1.269],\n",
       "       [1.503],\n",
       "       [1.3  ],\n",
       "       [1.07 ],\n",
       "       [1.324],\n",
       "       [1.368],\n",
       "       [1.159],\n",
       "       [0.8  ],\n",
       "       [1.403],\n",
       "       [1.684],\n",
       "       [1.286],\n",
       "       [1.149],\n",
       "       [1.004],\n",
       "       [1.124],\n",
       "       [1.572],\n",
       "       [0.794],\n",
       "       [1.294],\n",
       "       [1.362],\n",
       "       [1.246],\n",
       "       [1.231],\n",
       "       [1.206],\n",
       "       [0.745],\n",
       "       [1.238],\n",
       "       [0.985],\n",
       "       [1.258],\n",
       "       [0.694],\n",
       "       [0.882],\n",
       "       [1.092],\n",
       "       [1.162],\n",
       "       [1.263],\n",
       "       [0.912],\n",
       "       [1.5  ],\n",
       "       [1.05 ],\n",
       "       [1.187],\n",
       "       [1.301],\n",
       "       [1.237],\n",
       "       [0.831],\n",
       "       [1.12 ],\n",
       "       [1.327],\n",
       "       [0.642],\n",
       "       [1.173],\n",
       "       [0.776],\n",
       "       [1.201],\n",
       "       [0.855],\n",
       "       [1.263],\n",
       "       [0.96 ],\n",
       "       [1.221],\n",
       "       [0.677],\n",
       "       [1.183],\n",
       "       [0.807],\n",
       "       [1.004],\n",
       "       [0.685],\n",
       "       [1.044],\n",
       "       [1.051],\n",
       "       [0.493],\n",
       "       [1.155],\n",
       "       [1.438],\n",
       "       [1.015],\n",
       "       [0.945],\n",
       "       [1.183],\n",
       "       [1.221],\n",
       "       [1.067],\n",
       "       [1.181],\n",
       "       [0.948],\n",
       "       [0.983],\n",
       "       [0.696],\n",
       "       [0.551],\n",
       "       [1.052],\n",
       "       [1.002],\n",
       "       [0.801],\n",
       "       [1.043],\n",
       "       [0.987],\n",
       "       [0.931],\n",
       "       [1.029],\n",
       "       [0.741],\n",
       "       [0.813],\n",
       "       [0.549],\n",
       "       [1.092],\n",
       "       [0.611],\n",
       "       [0.569],\n",
       "       [0.446],\n",
       "       [0.837],\n",
       "       [0.393],\n",
       "       [0.673],\n",
       "       [1.057],\n",
       "       [0.764],\n",
       "       [0.96 ],\n",
       "       [0.947],\n",
       "       [0.96 ],\n",
       "       [0.574],\n",
       "       [0.657],\n",
       "       [0.45 ],\n",
       "       [0.   ],\n",
       "       [0.879],\n",
       "       [0.138],\n",
       "       [0.331],\n",
       "       [0.85 ],\n",
       "       [1.1  ],\n",
       "       [0.38 ],\n",
       "       [0.886],\n",
       "       [0.308],\n",
       "       [0.512],\n",
       "       [0.57 ],\n",
       "       [0.204],\n",
       "       [0.921],\n",
       "       [0.562],\n",
       "       [1.043],\n",
       "       [0.094],\n",
       "       [0.385],\n",
       "       [0.268],\n",
       "       [0.949],\n",
       "       [0.71 ],\n",
       "       [0.35 ],\n",
       "       [0.82 ],\n",
       "       [0.336],\n",
       "       [0.811],\n",
       "       [0.332],\n",
       "       [0.913],\n",
       "       [0.578],\n",
       "       [0.275],\n",
       "       [0.755],\n",
       "       [0.073],\n",
       "       [0.274],\n",
       "       [0.274],\n",
       "       [0.489],\n",
       "       [0.046],\n",
       "       [0.366],\n",
       "       [0.323],\n",
       "       [1.041],\n",
       "       [0.619],\n",
       "       [0.191],\n",
       "       [0.287],\n",
       "       [0.359],\n",
       "       [0.476],\n",
       "       [0.35 ],\n",
       "       [0.026],\n",
       "       [0.306]])"
      ]
     },
     "execution_count": 13,
     "metadata": {},
     "output_type": "execute_result"
    }
   ],
   "source": [
    "X"
   ]
  },
  {
   "cell_type": "code",
   "execution_count": 14,
   "id": "4b5e9fad",
   "metadata": {
    "scrolled": true
   },
   "outputs": [
    {
     "data": {
      "text/plain": [
       "array([[7.769],\n",
       "       [7.6  ],\n",
       "       [7.554],\n",
       "       [7.494],\n",
       "       [7.488],\n",
       "       [7.48 ],\n",
       "       [7.343],\n",
       "       [7.307],\n",
       "       [7.278],\n",
       "       [7.246],\n",
       "       [7.228],\n",
       "       [7.167],\n",
       "       [7.139],\n",
       "       [7.09 ],\n",
       "       [7.054],\n",
       "       [7.021],\n",
       "       [6.985],\n",
       "       [6.923],\n",
       "       [6.892],\n",
       "       [6.852],\n",
       "       [6.825],\n",
       "       [6.726],\n",
       "       [6.595],\n",
       "       [6.592],\n",
       "       [6.446],\n",
       "       [6.444],\n",
       "       [6.436],\n",
       "       [6.375],\n",
       "       [6.374],\n",
       "       [6.354],\n",
       "       [6.321],\n",
       "       [6.3  ],\n",
       "       [6.293],\n",
       "       [6.262],\n",
       "       [6.253],\n",
       "       [6.223],\n",
       "       [6.199],\n",
       "       [6.198],\n",
       "       [6.192],\n",
       "       [6.182],\n",
       "       [6.174],\n",
       "       [6.149],\n",
       "       [6.125],\n",
       "       [6.118],\n",
       "       [6.105],\n",
       "       [6.1  ],\n",
       "       [6.086],\n",
       "       [6.07 ],\n",
       "       [6.046],\n",
       "       [6.028],\n",
       "       [6.021],\n",
       "       [6.008],\n",
       "       [5.94 ],\n",
       "       [5.895],\n",
       "       [5.893],\n",
       "       [5.89 ],\n",
       "       [5.888],\n",
       "       [5.886],\n",
       "       [5.86 ],\n",
       "       [5.809],\n",
       "       [5.779],\n",
       "       [5.758],\n",
       "       [5.743],\n",
       "       [5.718],\n",
       "       [5.697],\n",
       "       [5.693],\n",
       "       [5.653],\n",
       "       [5.648],\n",
       "       [5.631],\n",
       "       [5.603],\n",
       "       [5.529],\n",
       "       [5.525],\n",
       "       [5.523],\n",
       "       [5.467],\n",
       "       [5.432],\n",
       "       [5.43 ],\n",
       "       [5.425],\n",
       "       [5.386],\n",
       "       [5.373],\n",
       "       [5.339],\n",
       "       [5.323],\n",
       "       [5.287],\n",
       "       [5.285],\n",
       "       [5.274],\n",
       "       [5.265],\n",
       "       [5.261],\n",
       "       [5.247],\n",
       "       [5.211],\n",
       "       [5.208],\n",
       "       [5.208],\n",
       "       [5.197],\n",
       "       [5.192],\n",
       "       [5.191],\n",
       "       [5.175],\n",
       "       [5.082],\n",
       "       [5.044],\n",
       "       [5.011],\n",
       "       [4.996],\n",
       "       [4.944],\n",
       "       [4.913],\n",
       "       [4.906],\n",
       "       [4.883],\n",
       "       [4.812],\n",
       "       [4.799],\n",
       "       [4.796],\n",
       "       [4.722],\n",
       "       [4.719],\n",
       "       [4.707],\n",
       "       [4.7  ],\n",
       "       [4.696],\n",
       "       [4.681],\n",
       "       [4.668],\n",
       "       [4.639],\n",
       "       [4.628],\n",
       "       [4.587],\n",
       "       [4.559],\n",
       "       [4.548],\n",
       "       [4.534],\n",
       "       [4.519],\n",
       "       [4.516],\n",
       "       [4.509],\n",
       "       [4.49 ],\n",
       "       [4.466],\n",
       "       [4.461],\n",
       "       [4.456],\n",
       "       [4.437],\n",
       "       [4.418],\n",
       "       [4.39 ],\n",
       "       [4.374],\n",
       "       [4.366],\n",
       "       [4.36 ],\n",
       "       [4.35 ],\n",
       "       [4.332],\n",
       "       [4.286],\n",
       "       [4.212],\n",
       "       [4.189],\n",
       "       [4.166],\n",
       "       [4.107],\n",
       "       [4.085],\n",
       "       [4.015],\n",
       "       [3.975],\n",
       "       [3.973],\n",
       "       [3.933],\n",
       "       [3.802],\n",
       "       [3.775],\n",
       "       [3.663],\n",
       "       [3.597],\n",
       "       [3.488],\n",
       "       [3.462],\n",
       "       [3.41 ],\n",
       "       [3.38 ],\n",
       "       [3.334],\n",
       "       [3.231],\n",
       "       [3.203],\n",
       "       [3.083],\n",
       "       [2.853]])"
      ]
     },
     "execution_count": 14,
     "metadata": {},
     "output_type": "execute_result"
    }
   ],
   "source": [
    "y"
   ]
  },
  {
   "cell_type": "code",
   "execution_count": 15,
   "id": "f488c90d",
   "metadata": {},
   "outputs": [],
   "source": [
    "# Split data into a training set and a test set\n",
    "X_train, X_test, y_train, y_test = train_test_split(X, y, test_size=0.3, random_state=0)"
   ]
  },
  {
   "cell_type": "markdown",
   "id": "51f086de",
   "metadata": {},
   "source": [
    "### 6. Regression analysis"
   ]
  },
  {
   "cell_type": "code",
   "execution_count": 16,
   "id": "eb489cfc",
   "metadata": {},
   "outputs": [],
   "source": [
    "# Create a regression object\n",
    "regression = LinearRegression() # This is the regression object, which will be fit onto the training set"
   ]
  },
  {
   "cell_type": "code",
   "execution_count": 17,
   "id": "12c08235",
   "metadata": {},
   "outputs": [
    {
     "data": {
      "text/html": [
       "<style>#sk-container-id-1 {color: black;background-color: white;}#sk-container-id-1 pre{padding: 0;}#sk-container-id-1 div.sk-toggleable {background-color: white;}#sk-container-id-1 label.sk-toggleable__label {cursor: pointer;display: block;width: 100%;margin-bottom: 0;padding: 0.3em;box-sizing: border-box;text-align: center;}#sk-container-id-1 label.sk-toggleable__label-arrow:before {content: \"▸\";float: left;margin-right: 0.25em;color: #696969;}#sk-container-id-1 label.sk-toggleable__label-arrow:hover:before {color: black;}#sk-container-id-1 div.sk-estimator:hover label.sk-toggleable__label-arrow:before {color: black;}#sk-container-id-1 div.sk-toggleable__content {max-height: 0;max-width: 0;overflow: hidden;text-align: left;background-color: #f0f8ff;}#sk-container-id-1 div.sk-toggleable__content pre {margin: 0.2em;color: black;border-radius: 0.25em;background-color: #f0f8ff;}#sk-container-id-1 input.sk-toggleable__control:checked~div.sk-toggleable__content {max-height: 200px;max-width: 100%;overflow: auto;}#sk-container-id-1 input.sk-toggleable__control:checked~label.sk-toggleable__label-arrow:before {content: \"▾\";}#sk-container-id-1 div.sk-estimator input.sk-toggleable__control:checked~label.sk-toggleable__label {background-color: #d4ebff;}#sk-container-id-1 div.sk-label input.sk-toggleable__control:checked~label.sk-toggleable__label {background-color: #d4ebff;}#sk-container-id-1 input.sk-hidden--visually {border: 0;clip: rect(1px 1px 1px 1px);clip: rect(1px, 1px, 1px, 1px);height: 1px;margin: -1px;overflow: hidden;padding: 0;position: absolute;width: 1px;}#sk-container-id-1 div.sk-estimator {font-family: monospace;background-color: #f0f8ff;border: 1px dotted black;border-radius: 0.25em;box-sizing: border-box;margin-bottom: 0.5em;}#sk-container-id-1 div.sk-estimator:hover {background-color: #d4ebff;}#sk-container-id-1 div.sk-parallel-item::after {content: \"\";width: 100%;border-bottom: 1px solid gray;flex-grow: 1;}#sk-container-id-1 div.sk-label:hover label.sk-toggleable__label {background-color: #d4ebff;}#sk-container-id-1 div.sk-serial::before {content: \"\";position: absolute;border-left: 1px solid gray;box-sizing: border-box;top: 0;bottom: 0;left: 50%;z-index: 0;}#sk-container-id-1 div.sk-serial {display: flex;flex-direction: column;align-items: center;background-color: white;padding-right: 0.2em;padding-left: 0.2em;position: relative;}#sk-container-id-1 div.sk-item {position: relative;z-index: 1;}#sk-container-id-1 div.sk-parallel {display: flex;align-items: stretch;justify-content: center;background-color: white;position: relative;}#sk-container-id-1 div.sk-item::before, #sk-container-id-1 div.sk-parallel-item::before {content: \"\";position: absolute;border-left: 1px solid gray;box-sizing: border-box;top: 0;bottom: 0;left: 50%;z-index: -1;}#sk-container-id-1 div.sk-parallel-item {display: flex;flex-direction: column;z-index: 1;position: relative;background-color: white;}#sk-container-id-1 div.sk-parallel-item:first-child::after {align-self: flex-end;width: 50%;}#sk-container-id-1 div.sk-parallel-item:last-child::after {align-self: flex-start;width: 50%;}#sk-container-id-1 div.sk-parallel-item:only-child::after {width: 0;}#sk-container-id-1 div.sk-dashed-wrapped {border: 1px dashed gray;margin: 0 0.4em 0.5em 0.4em;box-sizing: border-box;padding-bottom: 0.4em;background-color: white;}#sk-container-id-1 div.sk-label label {font-family: monospace;font-weight: bold;display: inline-block;line-height: 1.2em;}#sk-container-id-1 div.sk-label-container {text-align: center;}#sk-container-id-1 div.sk-container {/* jupyter's `normalize.less` sets `[hidden] { display: none; }` but bootstrap.min.css set `[hidden] { display: none !important; }` so we also need the `!important` here to be able to override the default hidden behavior on the sphinx rendered scikit-learn.org. See: https://github.com/scikit-learn/scikit-learn/issues/21755 */display: inline-block !important;position: relative;}#sk-container-id-1 div.sk-text-repr-fallback {display: none;}</style><div id=\"sk-container-id-1\" class=\"sk-top-container\"><div class=\"sk-text-repr-fallback\"><pre>LinearRegression()</pre><b>In a Jupyter environment, please rerun this cell to show the HTML representation or trust the notebook. <br />On GitHub, the HTML representation is unable to render, please try loading this page with nbviewer.org.</b></div><div class=\"sk-container\" hidden><div class=\"sk-item\"><div class=\"sk-estimator sk-toggleable\"><input class=\"sk-toggleable__control sk-hidden--visually\" id=\"sk-estimator-id-1\" type=\"checkbox\" checked><label for=\"sk-estimator-id-1\" class=\"sk-toggleable__label sk-toggleable__label-arrow\">LinearRegression</label><div class=\"sk-toggleable__content\"><pre>LinearRegression()</pre></div></div></div></div></div>"
      ],
      "text/plain": [
       "LinearRegression()"
      ]
     },
     "execution_count": 17,
     "metadata": {},
     "output_type": "execute_result"
    }
   ],
   "source": [
    "# Fit the regression object onto the training set\n",
    "regression.fit(X_train, y_train)"
   ]
  },
  {
   "cell_type": "code",
   "execution_count": 18,
   "id": "27c43e6c",
   "metadata": {},
   "outputs": [],
   "source": [
    "# Predict the values of y using X\n",
    "y_predicted = regression.predict(X_test)"
   ]
  },
  {
   "cell_type": "code",
   "execution_count": 19,
   "id": "286cae14",
   "metadata": {},
   "outputs": [
    {
     "data": {
      "image/png": "[encoded data removed]",
      "text/plain": [
       "<Figure size 640x480 with 1 Axes>"
      ]
     },
     "metadata": {},
     "output_type": "display_data"
    }
   ],
   "source": [
    "# Create a plot that shows the regression line from the model on the test set\n",
    "plot_test = plt\n",
    "plot_test.scatter(X_test, y_test, color='gray', s = 15)\n",
    "plot_test.plot(X_test, y_predicted, color='red', linewidth =3)\n",
    "plot_test.title('Happiness Score vs GDP per capita (Test set)')\n",
    "plot_test.xlabel('GDP per capita')\n",
    "plot_test.ylabel('Happiness Score')\n",
    "plot_test.show()"
   ]
  },
  {
   "cell_type": "markdown",
   "id": "a5326d0e",
   "metadata": {},
   "source": [
    "**Interpretation**\n",
    "\n",
    "The line appears to fit the data moderately well in the train set. The positive slope indicates a positive relationship between GDP per capita and happiness score, meaning that as GDP per capita increases, the happiness score tends to increase as well. This positive relationship aligns with common intuition and existing research findings that suggest higher economic prosperity is often associated with greater subjective well-being or happiness."
   ]
  },
  {
   "cell_type": "code",
   "execution_count": 20,
   "id": "17801c07",
   "metadata": {},
   "outputs": [],
   "source": [
    "# Create objects that contain the model summary statistics\n",
    "rmse = mean_squared_error(y_test, y_predicted) # This is the mean squared error\n",
    "r2 = r2_score(y_test, y_predicted) # This is the R2 score"
   ]
  },
  {
   "cell_type": "code",
   "execution_count": 21,
   "id": "4ed496b9",
   "metadata": {},
   "outputs": [
    {
     "name": "stdout",
     "output_type": "stream",
     "text": [
      "Slope: [[2.28560657]]\n",
      "Mean squared error:  0.5168179896793244\n",
      "R2 score:  0.4921825647047632\n"
     ]
    }
   ],
   "source": [
    "# Print the model summary statistics\n",
    "print('Slope:' ,regression.coef_)\n",
    "print('Mean squared error: ', rmse)\n",
    "print('R2 score: ', r2)"
   ]
  },
  {
   "cell_type": "markdown",
   "id": "dfca2819",
   "metadata": {},
   "source": [
    "**Slope**: The slope of the fitted line is approximately 2.29. This indicates the rate of change in the dependent variable (happiness score) for a unit change in the independent variable (GDP per capita). \n",
    "\n",
    "**Mean Squared Error (MSE)**: The MSE is a measure of the average squared difference between the actual and predicted values. In this case, the MSE is approximately 0.52, indicating the average deviation of the data points from the fitted line.\n",
    "\n",
    "**R-squared Score (R2)**: The R2 score measures the proportion of the variance in the dependent variable that is predictable from the independent variable(s). Here, the R2 score is approximately 0.49, suggesting that around 49% of the variability in the happiness scores can be explained by the GDP per capita.\n",
    "\n",
    "**Interpretation**\n",
    "\n",
    "The line appears to fit the data moderately well in the train set. The positive slope indicates a positive relationship between GDP per capita and happiness score. However, the MSE indicates some degree of variability or dispersion of data points around the fitted line, suggesting that the model may not capture all the nuances of the relationship. The R2 score of approximately 0.49 indicates that nearly half of the variability in happiness scores can be explained by GDP per capita, which suggests a moderate level of predictive power. Overall, while the model provides some insights into the relationship between GDP per capita and happiness score, there may be other factors influencing happiness that are not accounted for in the model."
   ]
  },
  {
   "cell_type": "code",
   "execution_count": 22,
   "id": "f40e793e",
   "metadata": {
    "scrolled": true
   },
   "outputs": [
    {
     "data": {
      "text/html": [
       "<div>\n",
       "<style scoped>\n",
       "    .dataframe tbody tr th:only-of-type {\n",
       "        vertical-align: middle;\n",
       "    }\n",
       "\n",
       "    .dataframe tbody tr th {\n",
       "        vertical-align: top;\n",
       "    }\n",
       "\n",
       "    .dataframe thead th {\n",
       "        text-align: right;\n",
       "    }\n",
       "</style>\n",
       "<table border=\"1\" class=\"dataframe\">\n",
       "  <thead>\n",
       "    <tr style=\"text-align: right;\">\n",
       "      <th></th>\n",
       "      <th>Actual</th>\n",
       "      <th>Predicted</th>\n",
       "    </tr>\n",
       "  </thead>\n",
       "  <tbody>\n",
       "    <tr>\n",
       "      <th>0</th>\n",
       "      <td>6.436</td>\n",
       "      <td>5.167462</td>\n",
       "    </tr>\n",
       "    <tr>\n",
       "      <th>1</th>\n",
       "      <td>5.893</td>\n",
       "      <td>6.166272</td>\n",
       "    </tr>\n",
       "    <tr>\n",
       "      <th>2</th>\n",
       "      <td>6.198</td>\n",
       "      <td>6.186843</td>\n",
       "    </tr>\n",
       "    <tr>\n",
       "      <th>3</th>\n",
       "      <td>4.639</td>\n",
       "      <td>5.348025</td>\n",
       "    </tr>\n",
       "    <tr>\n",
       "      <th>4</th>\n",
       "      <td>6.446</td>\n",
       "      <td>6.465687</td>\n",
       "    </tr>\n",
       "    <tr>\n",
       "      <th>5</th>\n",
       "      <td>7.307</td>\n",
       "      <td>6.317122</td>\n",
       "    </tr>\n",
       "    <tr>\n",
       "      <th>6</th>\n",
       "      <td>6.100</td>\n",
       "      <td>5.354882</td>\n",
       "    </tr>\n",
       "    <tr>\n",
       "      <th>7</th>\n",
       "      <td>4.707</td>\n",
       "      <td>5.533159</td>\n",
       "    </tr>\n",
       "    <tr>\n",
       "      <th>8</th>\n",
       "      <td>4.107</td>\n",
       "      <td>4.660058</td>\n",
       "    </tr>\n",
       "    <tr>\n",
       "      <th>9</th>\n",
       "      <td>6.174</td>\n",
       "      <td>5.041754</td>\n",
       "    </tr>\n",
       "    <tr>\n",
       "      <th>10</th>\n",
       "      <td>5.197</td>\n",
       "      <td>5.594871</td>\n",
       "    </tr>\n",
       "    <tr>\n",
       "      <th>11</th>\n",
       "      <td>6.008</td>\n",
       "      <td>5.738864</td>\n",
       "    </tr>\n",
       "    <tr>\n",
       "      <th>12</th>\n",
       "      <td>4.700</td>\n",
       "      <td>4.650915</td>\n",
       "    </tr>\n",
       "    <tr>\n",
       "      <th>13</th>\n",
       "      <td>4.516</td>\n",
       "      <td>4.042944</td>\n",
       "    </tr>\n",
       "    <tr>\n",
       "      <th>14</th>\n",
       "      <td>5.888</td>\n",
       "      <td>5.898856</td>\n",
       "    </tr>\n",
       "    <tr>\n",
       "      <th>15</th>\n",
       "      <td>3.488</td>\n",
       "      <td>5.718294</td>\n",
       "    </tr>\n",
       "    <tr>\n",
       "      <th>16</th>\n",
       "      <td>6.262</td>\n",
       "      <td>6.931951</td>\n",
       "    </tr>\n",
       "    <tr>\n",
       "      <th>17</th>\n",
       "      <td>4.519</td>\n",
       "      <td>5.364024</td>\n",
       "    </tr>\n",
       "    <tr>\n",
       "      <th>18</th>\n",
       "      <td>6.105</td>\n",
       "      <td>4.925188</td>\n",
       "    </tr>\n",
       "    <tr>\n",
       "      <th>19</th>\n",
       "      <td>4.374</td>\n",
       "      <td>3.951520</td>\n",
       "    </tr>\n",
       "    <tr>\n",
       "      <th>20</th>\n",
       "      <td>3.663</td>\n",
       "      <td>4.175509</td>\n",
       "    </tr>\n",
       "    <tr>\n",
       "      <th>21</th>\n",
       "      <td>7.278</td>\n",
       "      <td>6.458830</td>\n",
       "    </tr>\n",
       "    <tr>\n",
       "      <th>22</th>\n",
       "      <td>4.015</td>\n",
       "      <td>5.064610</td>\n",
       "    </tr>\n",
       "    <tr>\n",
       "      <th>23</th>\n",
       "      <td>5.809</td>\n",
       "      <td>6.019994</td>\n",
       "    </tr>\n",
       "    <tr>\n",
       "      <th>24</th>\n",
       "      <td>4.668</td>\n",
       "      <td>3.338977</td>\n",
       "    </tr>\n",
       "    <tr>\n",
       "      <th>25</th>\n",
       "      <td>3.231</td>\n",
       "      <td>4.426926</td>\n",
       "    </tr>\n",
       "    <tr>\n",
       "      <th>26</th>\n",
       "      <td>5.261</td>\n",
       "      <td>4.598346</td>\n",
       "    </tr>\n",
       "    <tr>\n",
       "      <th>27</th>\n",
       "      <td>5.743</td>\n",
       "      <td>5.293171</td>\n",
       "    </tr>\n",
       "    <tr>\n",
       "      <th>28</th>\n",
       "      <td>5.274</td>\n",
       "      <td>5.585728</td>\n",
       "    </tr>\n",
       "    <tr>\n",
       "      <th>29</th>\n",
       "      <td>5.082</td>\n",
       "      <td>5.197175</td>\n",
       "    </tr>\n",
       "  </tbody>\n",
       "</table>\n",
       "</div>"
      ],
      "text/plain": [
       "    Actual  Predicted\n",
       "0    6.436   5.167462\n",
       "1    5.893   6.166272\n",
       "2    6.198   6.186843\n",
       "3    4.639   5.348025\n",
       "4    6.446   6.465687\n",
       "5    7.307   6.317122\n",
       "6    6.100   5.354882\n",
       "7    4.707   5.533159\n",
       "8    4.107   4.660058\n",
       "9    6.174   5.041754\n",
       "10   5.197   5.594871\n",
       "11   6.008   5.738864\n",
       "12   4.700   4.650915\n",
       "13   4.516   4.042944\n",
       "14   5.888   5.898856\n",
       "15   3.488   5.718294\n",
       "16   6.262   6.931951\n",
       "17   4.519   5.364024\n",
       "18   6.105   4.925188\n",
       "19   4.374   3.951520\n",
       "20   3.663   4.175509\n",
       "21   7.278   6.458830\n",
       "22   4.015   5.064610\n",
       "23   5.809   6.019994\n",
       "24   4.668   3.338977\n",
       "25   3.231   4.426926\n",
       "26   5.261   4.598346\n",
       "27   5.743   5.293171\n",
       "28   5.274   5.585728\n",
       "29   5.082   5.197175"
      ]
     },
     "execution_count": 22,
     "metadata": {},
     "output_type": "execute_result"
    }
   ],
   "source": [
    "# Create a dataframe comparing the actual and predicted values of y\n",
    "data = pd.DataFrame({'Actual': y_test.flatten(), 'Predicted': y_predicted.flatten()})\n",
    "data.head(30)"
   ]
  },
  {
   "cell_type": "markdown",
   "id": "8598520d",
   "metadata": {},
   "source": [
    "### Model Performance on Test Set\n",
    "\n",
    "The model's performance on the test set appears to be reasonably good, although there is room for improvement. The mean squared error of 0.517 indicates that, on average, the model's predictions deviate from the actual values by approximately 0.72 units. The R-squared score of 0.492 suggests that the model explains about 49.2% of the variance in the happiness scores, which is relatively moderate.\n",
    "\n",
    "The comparison between actual and predicted vlaues indicates that while the model generally captures the trends in the data, there are instances where the predicted values deviate significantly from the actual values. Further refinement of the model may be necessary to improve its accuracy and reliability.\n",
    "\n",
    "### Reflections on Data Bias\n",
    "\n",
    "When assessing the model's performance and its implications, it's essential to consider the possibility of data bias. Data bias can occur if the training data does not accurately represent the population or if certain groups are overrepresented or underrepresented in the dataset. In the context of predicting happiness scores, biases could arise from various factors such as cultural differences, socioeconomic disparities, and measurement errors in data collection.\n",
    "\n",
    "It's crucial to critically evaluate the data sources, collection methods, and potential sources of bias to ensure that the model's predictions are reliable and unbiased. Additionally, ongoing monitoring and validation of the model's performance across different demographic groups can help identify and mitigate biases as necessary."
   ]
  },
  {
   "cell_type": "code",
   "execution_count": null,
   "id": "88452039",
   "metadata": {},
   "outputs": [],
   "source": []
  }
 ],
 "metadata": {
  "kernelspec": {
   "display_name": "Python 3 (ipykernel)",
   "language": "python",
   "name": "python3"
  },
  "language_info": {
   "codemirror_mode": {
    "name": "ipython",
    "version": 3
   },
   "file_extension": ".py",
   "mimetype": "text/x-python",
   "name": "python",
   "nbconvert_exporter": "python",
   "pygments_lexer": "ipython3",
   "version": "3.11.7"
  }
 },
 "nbformat": 4,
 "nbformat_minor": 5
}
